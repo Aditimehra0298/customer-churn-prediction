# churn_model.ipynb

# 1. Import libraries
import pandas as pd
from sklearn.model_selection import train_test_split
from sklearn.linear_model import LogisticRegression
from sklearn.metrics import accuracy_score, classification_report
from sklearn.preprocessing import LabelEncoder

# 2. Load data
df = pd.read_csv('../data/telecom_churn.csv')

# 3. Preprocess data
le = LabelEncoder()
for column in df.columns:
    if df[column].dtype == 'object' and column != 'customerID':
        df[column] = le.fit_transform(df[column])

# 4. Features & Target
X = df.drop(['customerID', 'Churn'], axis=1)
y = df['Churn']

# 5. Train/Test Split
X_train, X_test, y_train, y_test = train_test_split(X, y, test_size=0.2, random_state=42)

# 6. Train Model
model = LogisticRegression()
model.fit(X_train, y_train)

# 7. Predict & Evaluate
y_pred = model.predict(X_test)
print("Accuracy:", accuracy_score(y_test, y_pred))
print(classification_report(y_test, y_pred))
